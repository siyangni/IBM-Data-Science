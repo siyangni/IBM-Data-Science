{
  "nbformat": 4,
  "nbformat_minor": 0,
  "metadata": {
    "colab": {
      "provenance": []
    },
    "kernelspec": {
      "name": "python3",
      "display_name": "Python 3"
    },
    "language_info": {
      "name": "python"
    }
  },
  "cells": [
    {
      "cell_type": "markdown",
      "source": [
        "# Data Science Tools and Ecosystems"
      ],
      "metadata": {
        "id": "FeUHj7xEhsvZ"
      }
    },
    {
      "cell_type": "markdown",
      "source": [
        "## Author\n",
        "Siyang Ni"
      ],
      "metadata": {
        "id": "emO8DV1pnf7U"
      }
    },
    {
      "cell_type": "markdown",
      "source": [
        "In this notebook, Data Science Tools and Ecosystem are summarized."
      ],
      "metadata": {
        "id": "SnOTK37iief_"
      }
    },
    {
      "cell_type": "markdown",
      "source": [
        "**Objectives:**\n",
        "- Popular Data Science Languages\n",
        "- Popular Data Science Libraries\n",
        "- Basic Arithmatic Operation in Python"
      ],
      "metadata": {
        "id": "mOMlqsydm6Hi"
      }
    },
    {
      "cell_type": "markdown",
      "source": [
        "Some of the popular languages that Data Scientists use are:\n",
        "\n",
        "1. Python\n",
        "2. R\n",
        "3. SQL\n",
        "\n",
        "Some data scientists with a computer science background may also be familiar with:\n",
        "\n",
        "1. Java\n",
        "2. Scala\n",
        "3. C++"
      ],
      "metadata": {
        "id": "H3zoSrWGiiQi"
      }
    },
    {
      "cell_type": "markdown",
      "source": [
        "Some of the commonly used libraries used by Data Scientists include:\n",
        "\n",
        "1. For Python\n",
        "  1. Numpy: the basic arithmatic library\n",
        "  2. Pandas: A general-purpose data science library built upon Numpy\n",
        "  3. Scipy: A scientific computing library for Python\n",
        "  4. Matplotlib: A comprehensive visualization library in Python\n",
        "  5. Scikit-Learn: Python's Machine Learning library\n",
        "\n",
        "2. For R\n",
        "  1. tidyverse: A library contains many data science packages including the famous dplyr and ggplot2\n",
        "  2. caret: R's machine learning power house\n",
        "  3. shiny: An R package that allows you to create interactive visulizations"
      ],
      "metadata": {
        "id": "9nhU5vrOjKNh"
      }
    },
    {
      "cell_type": "markdown",
      "source": [
        "### Below are a few examples of evaluating arithmetic expressions in Python"
      ],
      "metadata": {
        "id": "_j4haNTclMYn"
      }
    },
    {
      "cell_type": "code",
      "source": [
        "(3*4) + 5\n",
        "# This a simple arithmetic expression to mutiply then add integers"
      ],
      "metadata": {
        "colab": {
          "base_uri": "https://localhost:8080/"
        },
        "id": "hrMYqL78lgq9",
        "outputId": "1232dbd2-4847-4f5b-f8b9-7ecee2d6daef"
      },
      "execution_count": 1,
      "outputs": [
        {
          "output_type": "execute_result",
          "data": {
            "text/plain": [
              "17"
            ]
          },
          "metadata": {},
          "execution_count": 1
        }
      ]
    },
    {
      "cell_type": "code",
      "source": [
        "print(f\"200 minutes is {200/60 :.2f} hours\")\n",
        "# This will convert 200 minutes to hours by diving by 60"
      ],
      "metadata": {
        "colab": {
          "base_uri": "https://localhost:8080/"
        },
        "id": "tuUPyTY7ltts",
        "outputId": "11709dd0-0728-4a4c-f1f4-8b36bf097858"
      },
      "execution_count": 4,
      "outputs": [
        {
          "output_type": "stream",
          "name": "stdout",
          "text": [
            "200 minutes is 3.33 hours\n"
          ]
        }
      ]
    },
    {
      "cell_type": "markdown",
      "source": [],
      "metadata": {
        "id": "6tbvv_Btm0W0"
      }
    }
  ]
}