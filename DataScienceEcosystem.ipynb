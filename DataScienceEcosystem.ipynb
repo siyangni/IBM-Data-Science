{
 "cells": [
  {
   "cell_type": "markdown",
   "metadata": {
    "id": "FeUHj7xEhsvZ"
   },
   "source": [
    "# Data Science Tools and Ecosystems"
   ]
  },
  {
   "cell_type": "markdown",
   "metadata": {
    "id": "emO8DV1pnf7U"
   },
   "source": [
    "## Author\n",
    "Siyang Ni"
   ]
  },
  {
   "cell_type": "markdown",
   "metadata": {
    "id": "SnOTK37iief_"
   },
   "source": [
    "In this notebook, Data Science Tools and Ecosystem are summarized."
   ]
  },
  {
   "cell_type": "markdown",
   "metadata": {
    "id": "mOMlqsydm6Hi"
   },
   "source": [
    "**Objectives:**\n",
    "- Popular Data Science Languages\n",
    "- Popular Data Science Libraries\n",
    "- Basic Arithmatic Operation in Python"
   ]
  },
  {
   "cell_type": "markdown",
   "metadata": {
    "id": "H3zoSrWGiiQi"
   },
   "source": [
    "Some of the popular languages that Data Scientists use are:\n",
    "\n",
    "1. Python\n",
    "2. R\n",
    "3. SQL\n",
    "\n",
    "Some data scientists with a computer science background may also be familiar with:\n",
    "\n",
    "1. Java\n",
    "2. Scala\n",
    "3. C++"
   ]
  },
  {
   "cell_type": "markdown",
   "metadata": {
    "id": "9nhU5vrOjKNh"
   },
   "source": [
    "Some of the commonly used libraries used by Data Scientists include:\n",
    "\n",
    "1. For Python\n",
    "    1. Numpy: the basic arithmatic library\n",
    "    2. Pandas: A general-purpose data science library built upon Numpy\n",
    "    3. Scipy: A scientific computing library for Python\n",
    "    4. Matplotlib: A comprehensive visualization library in Python\n",
    "    5. Scikit-Learn: Python's Machine Learning library\n",
    "\n",
    "<br>\n",
    "\n",
    "2. For R\n",
    "    1. tidyverse: A library contains many data science packages including the famous dplyr and ggplot2\n",
    "    2. caret: R's machine learning power house\n",
    "    3. shiny: An R package that allows you to create interactive visulizations"
   ]
  },
  {
   "cell_type": "markdown",
   "metadata": {
    "id": "_j4haNTclMYn"
   },
   "source": [
    "### Below are a few examples of evaluating arithmetic expressions in Python"
   ]
  },
  {
   "cell_type": "code",
   "execution_count": 1,
   "metadata": {
    "colab": {
     "base_uri": "https://localhost:8080/"
    },
    "id": "hrMYqL78lgq9",
    "outputId": "1232dbd2-4847-4f5b-f8b9-7ecee2d6daef"
   },
   "outputs": [
    {
     "data": {
      "text/plain": [
       "17"
      ]
     },
     "execution_count": 1,
     "metadata": {},
     "output_type": "execute_result"
    }
   ],
   "source": [
    "(3*4) + 5\n",
    "# This a simple arithmetic expression to mutiply then add integers"
   ]
  },
  {
   "cell_type": "code",
   "execution_count": 4,
   "metadata": {
    "colab": {
     "base_uri": "https://localhost:8080/"
    },
    "id": "tuUPyTY7ltts",
    "outputId": "11709dd0-0728-4a4c-f1f4-8b36bf097858"
   },
   "outputs": [
    {
     "name": "stdout",
     "output_type": "stream",
     "text": [
      "200 minutes is 3.33 hours\n"
     ]
    }
   ],
   "source": [
    "print(f\"200 minutes is {200/60 :.2f} hours\")\n",
    "# This will convert 200 minutes to hours by diving by 60"
   ]
  },
  {
   "cell_type": "markdown",
   "metadata": {
    "id": "6tbvv_Btm0W0"
   },
   "source": []
  }
 ],
 "metadata": {
  "colab": {
   "provenance": []
  },
  "kernelspec": {
   "display_name": "Python 3 (ipykernel)",
   "language": "python",
   "name": "python3"
  },
  "language_info": {
   "codemirror_mode": {
    "name": "ipython",
    "version": 3
   },
   "file_extension": ".py",
   "mimetype": "text/x-python",
   "name": "python",
   "nbconvert_exporter": "python",
   "pygments_lexer": "ipython3",
   "version": "3.11.4"
  }
 },
 "nbformat": 4,
 "nbformat_minor": 4
}
